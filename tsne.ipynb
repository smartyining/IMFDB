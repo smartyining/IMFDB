{
 "cells": [
  {
   "cell_type": "code",
   "execution_count": 15,
   "metadata": {
    "collapsed": false
   },
   "outputs": [
    {
     "data": {
      "text/plain": [
       "<trainer> preprocessing data (color space + normalization)\t\n"
      ]
     },
     "execution_count": 15,
     "metadata": {},
     "output_type": "execute_result"
    },
    {
     "data": {
      "text/plain": [
       "Progress: 1 / 558\t\n"
      ]
     },
     "execution_count": 15,
     "metadata": {},
     "output_type": "execute_result"
    },
    {
     "data": {
      "text/plain": [
       "1.5376344086022\t\n",
       "1.5791666666667\t\n"
      ]
     },
     "execution_count": 15,
     "metadata": {},
     "output_type": "execute_result"
    }
   ],
   "source": [
    "require 'optim'\n",
    "require 'nn'\n",
    "m = require 'manifold'\n",
    "require 'xlua'\n",
    "dofile 'data/gender.lua' \n",
    "\n",
    "model_p = './logs/model.net'\n"
   ]
  },
  {
   "cell_type": "code",
   "execution_count": 16,
   "metadata": {
    "collapsed": true
   },
   "outputs": [],
   "source": [
    "model = torch.load(model_p)\n",
    "model:remove(24)\n",
    "model:remove(23)\n",
    "model:evaluate()"
   ]
  },
  {
   "cell_type": "code",
   "execution_count": null,
   "metadata": {
    "collapsed": false
   },
   "outputs": [],
   "source": []
  },
  {
   "cell_type": "code",
   "execution_count": 17,
   "metadata": {
    "collapsed": false
   },
   "outputs": [
    {
     "data": {
      "text/plain": [
       "Performing preprocessing using PCA...\t\n"
      ]
     },
     "execution_count": 17,
     "metadata": {},
     "output_type": "execute_result"
    },
    {
     "data": {
      "text/plain": [
       "Read the 240 x 50 data matrix successfully!\n",
       "Using current time as random seed...\n",
       "Using no_dims = 2, perplexity = 30.000000, and theta = 0.500000\n",
       "Computing input similarities...\n",
       "Building tree...\n",
       " - point 0 of 240\n",
       "Done in 0.03 seconds (sparsity = 0.451667)!\n",
       "Learning embedding...\n",
       "Iteration 50: error is 47.743812 (50 iterations in 0.12 seconds)\n",
       "Iteration 100: error is 47.653270 (50 iterations in 0.13 seconds)\n",
       "Iteration 150: error is 47.091774 (50 iterations in 0.13 seconds)\n",
       "Iteration 200: error is 46.663724 (50 iterations in 0.10 seconds)\n",
       "Iteration 250: error is 1.398086 (50 iterations in 0.10 seconds)\n",
       "Iteration 300: error is 0.359083 (50 iterations in 0.10 seconds)\n",
       "Iteration 350: error is 0.298648 (50 iterations in 0.10 seconds)\n",
       "Iteration 400: error is 0.286826 (50 iterations in 0.10 seconds)\n",
       "Iteration 450: error is 0.279935 (50 iterations in 0.11 seconds)\n",
       "Iteration 500: error is 0.274780 (50 iterations in 0.11 seconds)\n",
       "Iteration 550: error is 0.272089 (50 iterations in 0.11 seconds)\n",
       "Iteration 600: error is 0.271810 (50 iterations in 0.10 seconds)\n",
       "Iteration 650: error is 0.268789 (50 iterations in 0.10 seconds)\n",
       "Iteration 700: error is 0.266619 (50 iterations in 0.10 seconds)\n",
       "Iteration 750: error is 0.263959 (50 iterations in 0.09 seconds)\n",
       "Iteration 800: error is 0.264613 (50 iterations in 0.10 seconds)\n",
       "Iteration 850: error is 0.263198 (50 iterations in 0.10 seconds)\n",
       "Iteration 900: error is 0.262653 (50 iterations in 0.09 seconds)\n",
       "Iteration 950: error is 0.260721 (50 iterations in 0.10 seconds)\n",
       "Iteration 999: error is 0.261962 (50 iterations in 0.09 seconds)\n",
       "Fitting performed in 2.09 seconds.\n",
       "Wrote the 240 x 2 data matrix successfully!\n"
      ]
     },
     "execution_count": 17,
     "metadata": {},
     "output_type": "execute_result"
    }
   ],
   "source": [
    "bs = 24\n",
    "outs = torch.DoubleTensor(testData.data:size(1),256)\n",
    "for i=1,testData.data:size(1),bs do\n",
    "    local outputs = model:forward(testData.data:narrow(1,i,bs))\n",
    "    outs[{{i,i+bs-1}}]:copy(outputs:resize(24,256))\n",
    "end\n",
    "\n",
    "opts = {ndims = 2, perplexity = 30, pca = 50, use_bh = true, theta=0.5}\n",
    "mapped_x1 = m.embedding.tsne(outs, opts)\n",
    "im_size = 2048\n",
    "\n",
    "map_im = m.draw_image_map(mapped_x1, testDataraw, im_size, 0, true)\n",
    "fn = 'tsne.png'\n",
    "image.save(fn,map_im)"
   ]
  },
  {
   "cell_type": "code",
   "execution_count": 9,
   "metadata": {
    "collapsed": false
   },
   "outputs": [],
   "source": []
  },
  {
   "cell_type": "code",
   "execution_count": null,
   "metadata": {
    "collapsed": true
   },
   "outputs": [],
   "source": []
  }
 ],
 "metadata": {
  "kernelspec": {
   "display_name": "iTorch",
   "language": "lua",
   "name": "itorch"
  },
  "language_info": {
   "name": "lua",
   "version": "5.1"
  }
 },
 "nbformat": 4,
 "nbformat_minor": 0
}
